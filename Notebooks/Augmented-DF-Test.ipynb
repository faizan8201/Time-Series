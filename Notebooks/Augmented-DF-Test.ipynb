{
 "cells": [
  {
   "cell_type": "code",
   "execution_count": 1,
   "metadata": {},
   "outputs": [],
   "source": [
    "import numpy as np\n",
    "import matplotlib.pyplot as plt\n",
    "from statsmodels.tsa.stattools import adfuller"
   ]
  },
  {
   "cell_type": "code",
   "execution_count": null,
   "metadata": {},
   "outputs": [],
   "source": []
  },
  {
   "cell_type": "code",
   "execution_count": null,
   "metadata": {},
   "outputs": [],
   "source": [
    "def generate_ar_process(lags, coefs, length):\n",
    "    \n",
    "    #cast coefs to np array\n",
    "    coefs = np.array(coefs)\n",
    "    \n",
    "    #initial values\n",
    "    series = [np.random.normal() for _ in range(lags)]\n",
    "    \n",
    "    for _ in range(length):\n",
    "        #get previous values of the series, reversed\n",
    "        prev_vals = series[-lags:][::-1]\n",
    "        \n",
    "        #get new value of time series\n",
    "        new_val = np.sum(np.array(prev_vals) * coefs) + np.random.normal()\n",
    "        \n",
    "        series.append(new_val)\n",
    "        \n",
    "    return np.array(series)"
   ]
  }
 ],
 "metadata": {
  "kernelspec": {
   "display_name": "Python 3.8.9 ('py38')",
   "language": "python",
   "name": "python3"
  },
  "language_info": {
   "codemirror_mode": {
    "name": "ipython",
    "version": 3
   },
   "file_extension": ".py",
   "mimetype": "text/x-python",
   "name": "python",
   "nbconvert_exporter": "python",
   "pygments_lexer": "ipython3",
   "version": "3.8.9"
  },
  "orig_nbformat": 4,
  "vscode": {
   "interpreter": {
    "hash": "61185d22d6516297aaeb622f2159587caa15a4da827823a726e5df5a123291d2"
   }
  }
 },
 "nbformat": 4,
 "nbformat_minor": 2
}
